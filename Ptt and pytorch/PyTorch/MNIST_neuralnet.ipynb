{
 "cells": [
  {
   "cell_type": "markdown",
   "metadata": {},
   "source": [
    "# Treinamento com interface de alto nível"
   ]
  },
  {
   "cell_type": "markdown",
   "metadata": {},
   "source": [
    "O objetivo deste notebook é ilustrar o uso da biblioteca `pytorch_trainer` que permite uma programação de mais alto nível.\n",
    "As principais classes e funções implementadas são:\n",
    "- DeepNetTrainer\n",
    "    - **métodos**:\n",
    "        - fit e fit_loader\n",
    "        - evaluate e evaluate_loader\n",
    "        - predict e predict_loader\n",
    "        - predict_classes e predict_classes_loader\n",
    "        - predict_probas e predict_probas_loader\n",
    "        - load_state e save_state\n",
    "\n",
    "Conceito de **callback**:\n",
    "- classe DeepNetTrainer:\n",
    "    - responsável pelo treinamento com praticamente todas as opções possíveis\n",
    "    - uso de 8 entry points para uso de callbacks:\n",
    "        - início de treinamento                     :`on_train_begin`\n",
    "            - início de época                       :`on_epoch_begin`\n",
    "                - início de minibatch de treinamento:`on_batch_begin`\n",
    "                - final de minibatch de treinamento :`on_batch_end`\n",
    "                - início de minibatch de validação  :`on_vbatch_begin`\n",
    "                - final de minibatch de validação   :`on_vbatch_end`\n",
    "            - final de época                        :`on_epoch_end`\n",
    "        - final de treinamento                      :`on_train_end`\n",
    "- classe Callback\n",
    "    - permite a implementação de vários callbacks úteis:\n",
    "        - AccuracyMetric: cálculo da acurácia\n",
    "        - PrintCallback:  impressão das métricas durante treinamento\n",
    "        - ModelCheckpoint:salva modelo sempre que loss de validação é melhor"
   ]
  },
  {
   "cell_type": "markdown",
   "metadata": {
    "ExecuteTime": {
     "end_time": "2017-11-29T19:13:27.530110Z",
     "start_time": "2017-11-29T19:13:27.524742Z"
    }
   },
   "source": [
    "Analise o arquivo da biblioteca `pytorch_trainer`:"
   ]
  },
  {
   "cell_type": "code",
   "execution_count": 2,
   "metadata": {
    "ExecuteTime": {
     "end_time": "2018-08-20T23:31:39.483570Z",
     "start_time": "2018-08-20T23:31:39.392845Z"
    }
   },
   "outputs": [],
   "source": [
    "%pycat lib/pytorch_trainer_v2.py"
   ]
  },
  {
   "cell_type": "code",
   "execution_count": null,
   "metadata": {},
   "outputs": [],
   "source": []
  },
  {
   "cell_type": "code",
   "execution_count": null,
   "metadata": {},
   "outputs": [],
   "source": []
  },
  {
   "cell_type": "markdown",
   "metadata": {},
   "source": [
    "## Importação das bibliotecas"
   ]
  },
  {
   "cell_type": "code",
   "execution_count": 6,
   "metadata": {
    "ExecuteTime": {
     "end_time": "2018-08-20T23:31:45.736657Z",
     "start_time": "2018-08-20T23:31:43.744498Z"
    }
   },
   "outputs": [
    {
     "ename": "SyntaxError",
     "evalue": "invalid syntax (pytorch_trainer_v2.py, line 458)",
     "output_type": "error",
     "traceback": [
      "Traceback \u001b[0;36m(most recent call last)\u001b[0m:\n",
      "  File \u001b[1;32m\"/home/jsantos/.local/lib/python3.5/site-packages/IPython/core/interactiveshell.py\"\u001b[0m, line \u001b[1;32m2963\u001b[0m, in \u001b[1;35mrun_code\u001b[0m\n    exec(code_obj, self.user_global_ns, self.user_ns)\n",
      "\u001b[0;36m  File \u001b[0;32m\"<ipython-input-6-f31fdea9939a>\"\u001b[0;36m, line \u001b[0;32m12\u001b[0;36m, in \u001b[0;35m<module>\u001b[0;36m\u001b[0m\n\u001b[0;31m    import lib.pytorch_trainer_v2 as ptt\u001b[0m\n",
      "\u001b[0;36m  File \u001b[0;32m\"/home/jsantos/Documents/Lotufo/PyTorch/lib/pytorch_trainer_v2.py\"\u001b[0;36m, line \u001b[0;32m458\u001b[0m\n\u001b[0;31m    print(f'{epoch:3d}: {etime:5.1f}s   T:', end=' ')\u001b[0m\n\u001b[0m                                          ^\u001b[0m\n\u001b[0;31mSyntaxError\u001b[0m\u001b[0;31m:\u001b[0m invalid syntax\n"
     ]
    }
   ],
   "source": [
    "%matplotlib inline\n",
    "import matplotlib.pyplot as plt\n",
    "import numpy as np\n",
    "import pandas as pd\n",
    "import os\n",
    "import torch\n",
    "import torch.nn as nn\n",
    "\n",
    "import torchvision\n",
    "\n",
    "import lib.pytorch_trainer_v2 as ptt"
   ]
  },
  {
   "cell_type": "markdown",
   "metadata": {},
   "source": [
    "## Leitura do Dataset"
   ]
  },
  {
   "cell_type": "markdown",
   "metadata": {},
   "source": [
    "### Carregamento, normalização e seleção dos dados do MNIST\n"
   ]
  },
  {
   "cell_type": "code",
   "execution_count": null,
   "metadata": {
    "ExecuteTime": {
     "end_time": "2018-08-20T23:31:48.937869Z",
     "start_time": "2018-08-20T23:31:48.093936Z"
    }
   },
   "outputs": [],
   "source": [
    "dataset_dir = '../data/datasets/MNIST/'\n",
    "\n",
    "x_train, y_train = torch.load(dataset_dir + 'processed/training.pt')\n",
    "x_test,  y_test  = torch.load(dataset_dir + 'processed/test.pt')\n",
    "\n",
    "x_train = x_train.float()\n",
    "x_test  = x_test.float()\n",
    "\n",
    "x_train = x_train / 255.\n",
    "x_test  = x_test  / 255."
   ]
  },
  {
   "cell_type": "markdown",
   "metadata": {},
   "source": [
    "### Poucos dados, apenas para depurar experimento"
   ]
  },
  {
   "cell_type": "code",
   "execution_count": null,
   "metadata": {
    "ExecuteTime": {
     "end_time": "2018-08-20T23:31:49.478519Z",
     "start_time": "2018-08-20T23:31:49.470970Z"
    }
   },
   "outputs": [],
   "source": [
    "if True:\n",
    "    n_samples_train = 1000\n",
    "    n_samples_test  = 500\n",
    "\n",
    "    x_train = x_train[:n_samples_train]\n",
    "    y_train = y_train[:n_samples_train]\n",
    "    x_test  = x_test[:n_samples_test]\n",
    "    y_test  = y_test[:n_samples_test]"
   ]
  },
  {
   "cell_type": "markdown",
   "metadata": {},
   "source": [
    "## Criação da rede"
   ]
  },
  {
   "cell_type": "code",
   "execution_count": null,
   "metadata": {
    "ExecuteTime": {
     "end_time": "2018-08-20T23:31:50.824437Z",
     "start_time": "2018-08-20T23:31:50.815990Z"
    }
   },
   "outputs": [],
   "source": [
    "class Model(nn.Module):\n",
    "    def __init__(self):\n",
    "        super().__init__()\n",
    "        self.fc1 = nn.Linear(28 * 28, 50)\n",
    "        self.at1 = nn.ReLU()\n",
    "        self.fc2 = nn.Linear(50, 10)\n",
    "\n",
    "    def forward(self, x):\n",
    "        x = x.view(-1, 28 * 28)\n",
    "        x = self.fc1(x)\n",
    "        x = self.at1(x)\n",
    "        x = self.fc2(x)\n",
    "        return x\n",
    "    \n",
    "model = Model()"
   ]
  },
  {
   "cell_type": "markdown",
   "metadata": {},
   "source": [
    "## Treinamento"
   ]
  },
  {
   "cell_type": "markdown",
   "metadata": {},
   "source": [
    "### Criando o objeto de treinamento"
   ]
  },
  {
   "cell_type": "markdown",
   "metadata": {},
   "source": [
    "A biblioteca 'lib/pytorch_trainer.py' implementa a classe `DeepNetTrainer`, assim como vários *callbacks*:\n",
    "- ModelCheckpoint: usado para salvar o melhor modelo, de menor Loss\n",
    "- AccuracyMetric: calcular a acurácia durante o treinamento\n",
    "- PrintCallback: imprimir dados de cada época durante o treinamento"
   ]
  },
  {
   "cell_type": "code",
   "execution_count": null,
   "metadata": {
    "ExecuteTime": {
     "end_time": "2018-08-20T23:31:53.779634Z",
     "start_time": "2018-08-20T23:31:53.769484Z"
    }
   },
   "outputs": [],
   "source": [
    "chkpt_cb = ptt.ModelCheckpoint('../../models/MNIST_neuralnet', reset=True, verbose=1)\n",
    "\n",
    "trainer = ptt.DeepNetTrainer(model,\n",
    "                        criterion = nn.CrossEntropyLoss(),\n",
    "                        optimizer = torch.optim.SGD(model.parameters(),lr=0.03),\n",
    "                        callbacks = [ptt.AccuracyMetric(),ptt.PrintCallback(),chkpt_cb]\n",
    "                        )"
   ]
  },
  {
   "cell_type": "code",
   "execution_count": null,
   "metadata": {
    "ExecuteTime": {
     "end_time": "2018-08-20T23:32:06.502261Z",
     "start_time": "2018-08-20T23:31:54.794201Z"
    }
   },
   "outputs": [],
   "source": [
    "trainer.fit(20, x_train, y_train, valid_data=(x_test, y_test))"
   ]
  },
  {
   "cell_type": "markdown",
   "metadata": {},
   "source": [
    "## Avaliação"
   ]
  },
  {
   "cell_type": "markdown",
   "metadata": {},
   "source": [
    "### Plotando as métricas do treinamento"
   ]
  },
  {
   "cell_type": "code",
   "execution_count": null,
   "metadata": {
    "ExecuteTime": {
     "end_time": "2018-08-20T23:32:15.272329Z",
     "start_time": "2018-08-20T23:32:14.769276Z"
    }
   },
   "outputs": [],
   "source": [
    "histo_loss_val = trainer.metrics['valid']['losses']\n",
    "histo_loss_tra = trainer.metrics['train']['losses']\n",
    "epochs = np.arange(len(histo_loss_val))\n",
    "plt.plot(epochs,histo_loss_tra, epochs,histo_loss_val);"
   ]
  },
  {
   "cell_type": "code",
   "execution_count": null,
   "metadata": {
    "ExecuteTime": {
     "end_time": "2018-08-20T23:32:16.935512Z",
     "start_time": "2018-08-20T23:32:16.620951Z"
    }
   },
   "outputs": [],
   "source": [
    "histo_acc_val = trainer.metrics['valid']['acc']\n",
    "histo_acc_tra = trainer.metrics['train']['acc']\n",
    "epochs = np.arange(len(histo_acc_val))\n",
    "plt.plot(epochs,histo_acc_tra, epochs,histo_acc_val);"
   ]
  },
  {
   "cell_type": "markdown",
   "metadata": {},
   "source": [
    "### Recuperando o modelo da melhor época"
   ]
  },
  {
   "cell_type": "code",
   "execution_count": null,
   "metadata": {
    "ExecuteTime": {
     "end_time": "2018-08-20T23:32:19.308904Z",
     "start_time": "2018-08-20T23:32:19.293311Z"
    }
   },
   "outputs": [],
   "source": [
    "trainer.load_state('../../models/MNIST_neuralnet')"
   ]
  },
  {
   "cell_type": "markdown",
   "metadata": {},
   "source": [
    "### Avaliando a acurácia tanto no conjunto de treinamento como no conjunto de validação"
   ]
  },
  {
   "cell_type": "markdown",
   "metadata": {},
   "source": [
    "Uso do `trainer.evaluate`"
   ]
  },
  {
   "cell_type": "code",
   "execution_count": null,
   "metadata": {
    "ExecuteTime": {
     "end_time": "2018-08-20T23:32:22.065145Z",
     "start_time": "2018-08-20T23:32:21.046059Z"
    }
   },
   "outputs": [],
   "source": [
    "acc_train = trainer.evaluate(x_train,y_train, metrics=[ptt.AccuracyMetric()])\n",
    "acc_val = trainer.evaluate(x_test,y_test, metrics=[ptt.AccuracyMetric()])\n",
    "\n",
    "print('Training Accuracy:   {:f}'.format(acc_train['acc']))\n",
    "print('Validation Accuracy: {:f}'.format(acc_val['acc']))"
   ]
  },
  {
   "cell_type": "markdown",
   "metadata": {},
   "source": [
    "### Matriz de confusão com dados de treinamento e validação"
   ]
  },
  {
   "cell_type": "markdown",
   "metadata": {},
   "source": [
    "Uso do `trainer.predict_classes`"
   ]
  },
  {
   "cell_type": "code",
   "execution_count": null,
   "metadata": {
    "ExecuteTime": {
     "end_time": "2018-08-20T23:32:38.352642Z",
     "start_time": "2018-08-20T23:32:38.342011Z"
    }
   },
   "outputs": [],
   "source": [
    "y_pred     = trainer.predict_classes(x_train)\n",
    "y_val_pred = trainer.predict_classes(x_test)"
   ]
  },
  {
   "cell_type": "code",
   "execution_count": null,
   "metadata": {
    "ExecuteTime": {
     "end_time": "2018-08-20T23:32:39.430900Z",
     "start_time": "2018-08-20T23:32:39.346004Z"
    }
   },
   "outputs": [],
   "source": [
    "pd.crosstab(y_pred.cpu().numpy(),y_train.cpu().numpy())"
   ]
  },
  {
   "cell_type": "code",
   "execution_count": null,
   "metadata": {
    "ExecuteTime": {
     "end_time": "2018-08-20T23:32:41.264570Z",
     "start_time": "2018-08-20T23:32:41.222221Z"
    }
   },
   "outputs": [],
   "source": [
    "pd.crosstab(y_val_pred.cpu().numpy(),y_test.cpu().numpy())"
   ]
  },
  {
   "cell_type": "markdown",
   "metadata": {},
   "source": [
    "## Exercícios"
   ]
  },
  {
   "cell_type": "markdown",
   "metadata": {},
   "source": [
    "1. Implemente e teste uma nova classe de callback para imprimir o número do minibatch e o número da época durante o treinamento.\n",
    "2. Implemente e teste uma classe de callback para imprimir o valor médio e a variância dos pesos da primeira camada da rede à medida que ela é treinada."
   ]
  },
  {
   "cell_type": "markdown",
   "metadata": {
    "collapsed": true
   },
   "source": [
    "## Aprendizados"
   ]
  }
 ],
 "metadata": {
  "kernelspec": {
   "display_name": "Python 3",
   "language": "python",
   "name": "python3"
  },
  "language_info": {
   "codemirror_mode": {
    "name": "ipython",
    "version": 3
   },
   "file_extension": ".py",
   "mimetype": "text/x-python",
   "name": "python",
   "nbconvert_exporter": "python",
   "pygments_lexer": "ipython3",
   "version": "3.5.2"
  },
  "toc": {
   "nav_menu": {},
   "number_sections": true,
   "sideBar": true,
   "skip_h1_title": false,
   "toc_cell": false,
   "toc_position": {},
   "toc_section_display": "block",
   "toc_window_display": false
  }
 },
 "nbformat": 4,
 "nbformat_minor": 2
}
